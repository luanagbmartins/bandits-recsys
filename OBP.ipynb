{
  "cells": [
    {
      "cell_type": "markdown",
      "metadata": {
        "id": "LTcTTDYzs3eT"
      },
      "source": [
        "# Dataset Loader\n",
        "\n",
        "The first part of the Open Bandit Pipeline (OBP) is the dataset loader. For the Open Bandit Dataset (OBD), the loader is `opb.dataset.OpenBanditDataset` ([docs](https://zr-obp.readthedocs.io/en/latest/_autosummary/obp.dataset.real.html#obp.dataset.real.OpenBanditDataset)). \n",
        "\n",
        "As with many classes in the OBP, the dataset modules are implemented with [dataclasses](https://docs.python.org/3.7/library/dataclasses.html).\n",
        "\n",
        "The dataset module inherits from `obp.dataset.base.BaseRealBanditDatset` ([docs](https://zr-obp.readthedocs.io/en/latest/_autosummary/obp.dataset.base.html#module-obp.dataset.base)) and should implement three methods:\n",
        "- `load_raw_data()`: Load an on-disk representation of the dataset into the module. Used during initialization.\n",
        "- `pre_process()`: Perform any preprocessing needed to transform the raw data representation into a final representation.\n",
        "- `obtain_batch_bandit_feedback()`: Return a dictionary containing (at least) keys: `[\"action\",\"position\",\"reward\",\"pscore\",\"context\",\"n_rounds\"]`\n",
        "\n",
        "It is also helpful if the dataset module exposes a property `len_list`, which is how many items the bandit shows the user at a time. Often the answer is 1, though in the case of OBD it's 3."
      ]
    },
    {
      "cell_type": "code",
      "execution_count": 3,
      "metadata": {
        "id": "y2okvOD9sCaE"
      },
      "outputs": [],
      "source": [
        "import obp\n",
        "from obp_dataset import MovieLensDataset"
      ]
    },
    {
      "cell_type": "code",
      "execution_count": 4,
      "metadata": {
        "colab": {
          "base_uri": "https://localhost:8080/"
        },
        "id": "WPG05Yi8tMUr",
        "outputId": "1f2c5af3-c92d-4bc4-8fd9-195340644b21"
      },
      "outputs": [
        {
          "name": "stdout",
          "output_type": "stream",
          "text": [
            "/data/CEIA/Rurax-Moblix/obp/data/ml-100k/ml-100k.zip\n"
          ]
        },
        {
          "name": "stderr",
          "output_type": "stream",
          "text": [
            "/data/CEIA/Rurax-Moblix/obp/obp_dataset.py:51: FutureWarning: In a future version of pandas all arguments of read_csv except for the argument 'filepath_or_buffer' will be keyword-only\n",
            "  self.load_raw_data()\n"
          ]
        },
        {
          "name": "stdout",
          "output_type": "stream",
          "text": [
            "----- Finished data load\n",
            "----- Preprocessing dataset\n",
            "Finished preprocessing\n"
          ]
        }
      ],
      "source": [
        "dataset = MovieLensDataset(\n",
        "    data_path=os.path.join(os.getcwd(), \"data/\"), \n",
        "    embedding_network_weights_path=\"model/pmf/emb_50_ratio_0.800000_bs_1000_e_258_wd_0.100000_lr_0.000100_trained_pmf.pt\", \n",
        "    embedding_dim=50,\n",
        "    users_num=943,\n",
        "    items_num=1682\n",
        ")"
      ]
    },
    {
      "cell_type": "code",
      "execution_count": 5,
      "metadata": {},
      "outputs": [
        {
          "name": "stdout",
          "output_type": "stream",
          "text": [
            "feedback dict:\n",
            "  n_rounds: <class 'int'>\n",
            "  n_actions: <class 'int'>\n",
            "  action: <class 'numpy.ndarray'>\n",
            "  position: <class 'numpy.ndarray'>\n",
            "  reward: <class 'numpy.ndarray'>\n",
            "  pscore: <class 'numpy.ndarray'>\n",
            "  context: <class 'numpy.ndarray'>\n",
            "  action_context: <class 'numpy.ndarray'>\n"
          ]
        }
      ],
      "source": [
        "bandit_feedback = dataset.obtain_batch_bandit_feedback()\n",
        "print(\"feedback dict:\")\n",
        "for key, value in bandit_feedback.items():\n",
        "    print(f\"  {key}: {type(value)}\")"
      ]
    },
    {
      "cell_type": "code",
      "execution_count": 6,
      "metadata": {},
      "outputs": [
        {
          "name": "stdout",
          "output_type": "stream",
          "text": [
            "Expected reward for uniform random actions: 0.5538\n"
          ]
        }
      ],
      "source": [
        "exp_rand_reward = round(bandit_feedback[\"reward\"].mean(),4)\n",
        "print(f\"Expected reward for uniform random actions: {exp_rand_reward}\")"
      ]
    },
    {
      "cell_type": "markdown",
      "metadata": {},
      "source": [
        "# Off-Policy Evaluation (OPE)\n",
        "\n",
        "The next step is OPE which attempts to estimate the performance of online bandit algorithms using the logged bandit feedback and ReplayMethod(RM)."
      ]
    },
    {
      "cell_type": "code",
      "execution_count": 7,
      "metadata": {},
      "outputs": [
        {
          "ename": "SyntaxError",
          "evalue": "invalid syntax (simulator.py, line 105)",
          "output_type": "error",
          "traceback": [
            "Traceback \u001b[0;36m(most recent call last)\u001b[0m:\n",
            "  File \u001b[1;32m\"/data/miniconda3/envs/recsysrl/lib/python3.8/site-packages/IPython/core/interactiveshell.py\"\u001b[0m, line \u001b[1;32m3441\u001b[0m, in \u001b[1;35mrun_code\u001b[0m\n    exec(code_obj, self.user_global_ns, self.user_ns)\n",
            "\u001b[0;36m  File \u001b[0;32m\"<ipython-input-7-2111091b1dcf>\"\u001b[0;36m, line \u001b[0;32m15\u001b[0;36m, in \u001b[0;35m<module>\u001b[0;36m\u001b[0m\n\u001b[0;31m    from simulator import run_bandit_simulation\u001b[0m\n",
            "\u001b[0;36m  File \u001b[0;32m\"/data/CEIA/Rurax-Moblix/obp/simulator.py\"\u001b[0;36m, line \u001b[0;32m105\u001b[0m\n\u001b[0;31m    if group not in _group_count:\u001b[0m\n\u001b[0m                                ^\u001b[0m\n\u001b[0;31mSyntaxError\u001b[0m\u001b[0;31m:\u001b[0m invalid syntax\n"
          ]
        }
      ],
      "source": [
        "import numpy as np\n",
        "from sklearn.linear_model import LogisticRegression\n",
        "\n",
        "import obp\n",
        "from obp.policy import EpsilonGreedy, LinTS, LinUCB, Random\n",
        "from obp.ope import (\n",
        "    RegressionModel,\n",
        "    OffPolicyEvaluation, \n",
        "    ReplayMethod,\n",
        "    InverseProbabilityWeighting, \n",
        "    DirectMethod, \n",
        "    DoublyRobust\n",
        ")\n",
        "\n",
        "from simulator import run_bandit_simulation"
      ]
    },
    {
      "cell_type": "code",
      "execution_count": null,
      "metadata": {},
      "outputs": [],
      "source": [
        "import pickle\n",
        "\n",
        "with open(\"data/ml-100k/movies_groups.pkl\", \"rb\") as pkl_file:\n",
        "    movies_groups = pickle.load(pkl_file)\n"
      ]
    },
    {
      "cell_type": "code",
      "execution_count": 7,
      "metadata": {},
      "outputs": [
        {
          "name": "stderr",
          "output_type": "stream",
          "text": [
            "100%|██████████| 100000/100000 [00:05<00:00, 16888.59it/s]\n"
          ]
        }
      ],
      "source": [
        "epsilon_greedy = EpsilonGreedy(\n",
        "    n_actions=dataset.n_actions,\n",
        "    epsilon=0.1,\n",
        ")\n",
        "epsilon_greedy_ = run_bandit_simulation(\n",
        "    bandit_feedback=bandit_feedback,\n",
        "    policy=epsilon_greedy,\n",
        "    epochs=5,\n",
        "    item_group=movies_groups,\n",
        "    fairness_constraints=[1.0, 1.0, 1.0, 1.0, 1.0, 1.0, 1.0, 1.0, 1.0, 1.0]\n",
        ")"
      ]
    },
    {
      "cell_type": "code",
      "execution_count": 8,
      "metadata": {},
      "outputs": [],
      "source": [
        "lin_ucb = LinUCB(\n",
        "    dim=dataset.dim_context,\n",
        "    n_actions=dataset.n_actions,\n",
        "    epsilon=0.25\n",
        ")\n",
        "lin_ucb_ = run_bandit_simulation(\n",
        "    bandit_feedback=bandit_feedback,\n",
        "    policy=lin_ucb,\n",
        "    epochs=5,\n",
        "    item_group=movies_groups,\n",
        "    fairness_constraints=[1.0, 1.0, 1.0, 1.0, 1.0, 1.0, 1.0, 1.0, 1.0, 1.0]\n",
        ")"
      ]
    },
    {
      "cell_type": "code",
      "execution_count": 10,
      "metadata": {},
      "outputs": [],
      "source": [
        "# estimate the policy value of the online bandit algorithms using RM\n",
        "ope = OffPolicyEvaluation(\n",
        "    bandit_feedback=bandit_feedback,\n",
        "    ope_estimators=[\n",
        "        ReplayMethod(), \n",
        "        DR(estimator_name=\"DR\"),\n",
        "        IPS(estimator_name=\"IPS\"), \n",
        "        SNIPS(estimator_name=\"SNIPS\"),\n",
        "        DM(estimator_name=\"DM\"), \n",
        "    ]\n",
        ")"
      ]
    },
    {
      "cell_type": "code",
      "execution_count": null,
      "metadata": {},
      "outputs": [],
      "source": [
        "# obp.ope.RegressionModel\n",
        "regression_model = RegressionModel(\n",
        "    n_actions=dataset.n_actions, # number of actions; |A|\n",
        "    len_list=dataset.len_list, # number of items in a recommendation list; K\n",
        "    base_model=LogisticRegression(C=100, max_iter=100000), \n",
        ")"
      ]
    },
    {
      "cell_type": "code",
      "execution_count": null,
      "metadata": {},
      "outputs": [],
      "source": [
        "estimated_rewards = regression_model.fit_predict(\n",
        "    context=bandit_data[\"context\"],\n",
        "    action=bandit_data[\"action\"],\n",
        "    reward=bandit_data[\"reward\"],\n",
        "    position=bandit_data[\"position\"],\n",
        ")"
      ]
    },
    {
      "cell_type": "code",
      "execution_count": 11,
      "metadata": {},
      "outputs": [
        {
          "name": "stdout",
          "output_type": "stream",
          "text": [
            "    95.0% CI (lower)  95.0% CI (upper)      mean\n",
            "rm          0.152148          0.425977  0.275859 \n",
            "\n"
          ]
        }
      ],
      "source": [
        "estimated_policy_value = ope.estimate_policy_values(\n",
        "    action_dist=epsilon_greedy_, # \\pi_e(a|x)\n",
        "    estimated_rewards_by_reg_model=estimated_rewards, # \\hat{q}\n",
        ")\n",
        "estimated_policy_value"
      ]
    },
    {
      "cell_type": "code",
      "execution_count": null,
      "metadata": {},
      "outputs": [],
      "source": [
        "estimated_policy_value = ope.estimate_policy_values(\n",
        "    action_dist=lin_ucb_, # \\pi_e(a|x)\n",
        "    estimated_rewards_by_reg_model=estimated_rewards, # \\hat{q}\n",
        ")\n",
        "estimated_policy_value"
      ]
    }
  ],
  "metadata": {
    "colab": {
      "collapsed_sections": [],
      "name": "OBP.ipynb",
      "provenance": []
    },
    "interpreter": {
      "hash": "8842d3533bae659e5f41b6e8512932590b59a54a4b7636cc41bd679d9b5f82e4"
    },
    "kernelspec": {
      "display_name": "Python 3.8.11 64-bit ('recsysrl': conda)",
      "name": "python3"
    },
    "language_info": {
      "codemirror_mode": {
        "name": "ipython",
        "version": 3
      },
      "file_extension": ".py",
      "mimetype": "text/x-python",
      "name": "python",
      "nbconvert_exporter": "python",
      "pygments_lexer": "ipython3",
      "version": "3.8.11"
    }
  },
  "nbformat": 4,
  "nbformat_minor": 0
}
